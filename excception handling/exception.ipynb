{
 "cells": [
  {
   "cell_type": "code",
   "execution_count": 12,
   "metadata": {},
   "outputs": [],
   "source": [
    "def div(a, b):\n",
    "    try:\n",
    "        print(a/b)\n",
    "    except ZeroDivisionError or ValueError as e:\n",
    "        print(f\"Error: {e}\")"
   ]
  },
  {
   "cell_type": "code",
   "execution_count": 14,
   "metadata": {},
   "outputs": [
    {
     "ename": "ValueError",
     "evalue": "invalid literal for int() with base 10: '$'",
     "output_type": "error",
     "traceback": [
      "\u001b[0;31m---------------------------------------------------------------------------\u001b[0m",
      "\u001b[0;31mValueError\u001b[0m                                Traceback (most recent call last)",
      "Cell \u001b[0;32mIn[14], line 2\u001b[0m\n\u001b[1;32m      1\u001b[0m \u001b[38;5;28;01mif\u001b[39;00m \u001b[38;5;18m__name__\u001b[39m \u001b[38;5;241m==\u001b[39m \u001b[38;5;124m\"\u001b[39m\u001b[38;5;124m__main__\u001b[39m\u001b[38;5;124m\"\u001b[39m:\n\u001b[0;32m----> 2\u001b[0m     a, b \u001b[38;5;241m=\u001b[39m \u001b[38;5;28mmap\u001b[39m(\u001b[38;5;28mint\u001b[39m,\u001b[38;5;28minput\u001b[39m()\u001b[38;5;241m.\u001b[39msplit())\n\u001b[1;32m      3\u001b[0m     \u001b[38;5;28mprint\u001b[39m(div(a, b))\n",
      "\u001b[0;31mValueError\u001b[0m: invalid literal for int() with base 10: '$'"
     ]
    }
   ],
   "source": [
    "if __name__ == \"__main__\":\n",
    "    a, b = map(int,input().split())\n",
    "    print(div(a, b))"
   ]
  },
  {
   "cell_type": "code",
   "execution_count": 23,
   "metadata": {},
   "outputs": [
    {
     "name": "stdout",
     "output_type": "stream",
     "text": [
      "Error:  invalid literal for int() with base 10: '$'\n"
     ]
    }
   ],
   "source": [
    "a = '5'\n",
    "b = \"$\"\n",
    "\n",
    "try:\n",
    "    int(a) / int(b)\n",
    "except ZeroDivisionError and ValueError as e:\n",
    "    print(\"Error: \", e)"
   ]
  },
  {
   "cell_type": "code",
   "execution_count": 47,
   "metadata": {},
   "outputs": [
    {
     "name": "stdout",
     "output_type": "stream",
     "text": [
      "Error Code: division by zero\n",
      "Error Code: invalid literal for int() with base 10: '$'\n",
      "3.0\n"
     ]
    }
   ],
   "source": [
    "t = int(input())\n",
    "\n",
    "\n",
    "in_put = 0\n",
    "\n",
    "while in_put < t:\n",
    "    in_put += 1\n",
    "    a, b = map(str, input().split())\n",
    "    try:\n",
    "        print(int(a) / int(b))  \n",
    "    except ZeroDivisionError as e:\n",
    "        print(f\"Error Code: {e}\")\n",
    "    except ValueError as e:\n",
    "        print(f\"Error Code: {e}\")\n",
    "    \n",
    "    \n",
    "\n"
   ]
  }
 ],
 "metadata": {
  "kernelspec": {
   "display_name": "Python 3",
   "language": "python",
   "name": "python3"
  },
  "language_info": {
   "codemirror_mode": {
    "name": "ipython",
    "version": 3
   },
   "file_extension": ".py",
   "mimetype": "text/x-python",
   "name": "python",
   "nbconvert_exporter": "python",
   "pygments_lexer": "ipython3",
   "version": "3.12.4"
  }
 },
 "nbformat": 4,
 "nbformat_minor": 2
}
