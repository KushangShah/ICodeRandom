{
  "cells": [
    {
      "cell_type": "markdown",
      "metadata": {
        "colab_type": "text",
        "id": "view-in-github"
      },
      "source": [
        "<a href=\"https://colab.research.google.com/github/KushangShah/ICodeRandom/blob/main/ICodeRandom.ipynb\" target=\"_parent\"><img src=\"https://colab.research.google.com/assets/colab-badge.svg\" alt=\"Open In Colab\"/></a>"
      ]
    },
    {
      "cell_type": "code",
      "execution_count": 2,
      "metadata": {
        "colab": {
          "base_uri": "https://localhost:8080/"
        },
        "id": "PODZsWK2gq6P",
        "outputId": "1ff5fc75-9cf9-4acc-f1c4-30eefc3eac04"
      },
      "outputs": [
        {
          "name": "stdout",
          "output_type": "stream",
          "text": [
            "Hello, World!\n"
          ]
        }
      ],
      "source": [
        "print(\"Hello, World!\")"
      ]
    },
    {
      "cell_type": "code",
      "execution_count": 24,
      "metadata": {
        "id": "9iQyfhe1n6gS"
      },
      "outputs": [],
      "source": [
        "from collections import Counter"
      ]
    },
    {
      "cell_type": "code",
      "execution_count": 29,
      "metadata": {
        "colab": {
          "base_uri": "https://localhost:8080/"
        },
        "id": "fI4EMSTbn8Rp",
        "outputId": "c999ce81-3007-4da3-afa7-2a24d63abf40"
      },
      "outputs": [
        {
          "name": "stdout",
          "output_type": "stream",
          "text": [
            "Counter({8: 6, 9: 6, 5: 5, 7: 5, 4: 4, 6: 4, 2: 3, 3: 3, 1: 2})\n",
            "\n",
            "dict_items([(1, 2), (2, 3), (3, 3), (4, 4), (5, 5), (6, 4), (7, 5), (8, 6), (9, 6)])\n",
            "\n",
            "dict_keys([1, 2, 3, 4, 5, 6, 7, 8, 9])\n",
            "\n",
            "dict_values([2, 3, 3, 4, 5, 4, 5, 6, 6])\n"
          ]
        }
      ],
      "source": [
        "lst = [1,1,2,2,2,3,3,3,4,4,4,4,5,5,5,5,5,6,6,6,6,7,7,7,7,7,8,8,8,8,8,8,9,9,9,9,9,9]\n",
        "print(Counter(lst))\n",
        "print()\n",
        "print(Counter(lst).items())\n",
        "print()\n",
        "print(Counter(lst).keys())\n",
        "print()\n",
        "print(Counter(lst).values())"
      ]
    },
    {
      "cell_type": "code",
      "execution_count": 32,
      "metadata": {
        "colab": {
          "base_uri": "https://localhost:8080/"
        },
        "id": "HIAOsZsDraMb",
        "outputId": "924c4bac-80c8-4b53-d4ab-b522f123a7fa"
      },
      "outputs": [
        {
          "name": "stdout",
          "output_type": "stream",
          "text": [
            "Number of shoes: 10\n",
            "2 3 4 5 6 8 7 6 5 18\n",
            "Number of customer: 6\n",
            "6 55\n",
            "6 45\n",
            "6 55\n",
            "4 40\n",
            "18 60\n",
            "10 50\n",
            "200\n"
          ]
        }
      ],
      "source": [
        "from collections import Counter\n",
        "\n",
        "# The first line contain number of shoes\n",
        "num_shoe = int(input(\"Number of shoes: \"))\n",
        "\n",
        "# second line contain list of shoe size\n",
        "lst_shoe = Counter(map(int, input().split()))\n",
        "\n",
        "# this line contains the number of customer\n",
        "num_customer = int(input(\"Number of customer: \"))\n",
        "\n",
        "total_earned = 0\n",
        "\n",
        "# now iterate over each customer and their desired size\n",
        "for _ in range(num_customer):\n",
        "  size, price = map(int, input().split())\n",
        "\n",
        "  if lst_shoe[size] > 0:\n",
        "    total_earned += price\n",
        "    lst_shoe[size] -= 1\n",
        "  # print(size, price)\n",
        "print(total_earned)"
      ]
    },
    {
      "cell_type": "code",
      "execution_count": 2,
      "metadata": {},
      "outputs": [
        {
          "name": "stdout",
          "output_type": "stream",
          "text": [
            "[('a', 'b', 'c'), ('a', 'c', 'b'), ('b', 'a', 'c'), ('b', 'c', 'a'), ('c', 'a', 'b'), ('c', 'b', 'a')]\n",
            "\n",
            "[('1', '2'), ('1', '3'), ('2', '1'), ('2', '3'), ('3', '1'), ('3', '2')]\n"
          ]
        }
      ],
      "source": [
        "from itertools import permutations\n",
        "\n",
        "print(list(permutations('abc', 3)))\n",
        "print()\n",
        "print(list(permutations(['1', '2', '3'], 2)))\n"
      ]
    },
    {
      "cell_type": "code",
      "execution_count": 3,
      "metadata": {},
      "outputs": [
        {
          "ename": "TypeError",
          "evalue": "Expected int as r",
          "output_type": "error",
          "traceback": [
            "\u001b[0;31m---------------------------------------------------------------------------\u001b[0m",
            "\u001b[0;31mTypeError\u001b[0m                                 Traceback (most recent call last)",
            "Cell \u001b[0;32mIn[3], line 4\u001b[0m\n\u001b[1;32m      1\u001b[0m string \u001b[38;5;241m=\u001b[39m \u001b[38;5;28minput\u001b[39m()\n\u001b[1;32m      2\u001b[0m num \u001b[38;5;241m=\u001b[39m \u001b[38;5;28minput\u001b[39m()\n\u001b[0;32m----> 4\u001b[0m \u001b[38;5;28mprint\u001b[39m(\u001b[38;5;28mlist\u001b[39m(\u001b[43mpermutations\u001b[49m\u001b[43m(\u001b[49m\u001b[43mstring\u001b[49m\u001b[43m,\u001b[49m\u001b[43m \u001b[49m\u001b[43mnum\u001b[49m\u001b[43m)\u001b[49m))\n",
            "\u001b[0;31mTypeError\u001b[0m: Expected int as r"
          ]
        }
      ],
      "source": [
        "string = input()\n",
        "num = int(input())\n",
        "\n",
        "print(list(permutations(string, num)))"
      ]
    },
    {
      "cell_type": "code",
      "execution_count": 5,
      "metadata": {},
      "outputs": [
        {
          "data": {
            "text/plain": [
              "(97, 122)"
            ]
          },
          "execution_count": 5,
          "metadata": {},
          "output_type": "execute_result"
        }
      ],
      "source": [
        "ord(\"a\"), ord(\"z\")"
      ]
    },
    {
      "cell_type": "code",
      "execution_count": 8,
      "metadata": {},
      "outputs": [
        {
          "data": {
            "text/plain": [
              "('a', 'z')"
            ]
          },
          "execution_count": 8,
          "metadata": {},
          "output_type": "execute_result"
        }
      ],
      "source": [
        "chr(97), chr(122)"
      ]
    },
    {
      "cell_type": "code",
      "execution_count": 1,
      "metadata": {},
      "outputs": [],
      "source": [
        "# worst way to print hello, world\n",
        "\n",
        "a = [chr(i) for i in range(ord(\"a\"), ord(\"z\") + 1)]\n",
        "\n",
        "string = str(input())\n",
        "\n",
        "for i in string:\n",
        "    print(i)\n",
        "\n",
        "    while i:\n",
        "        if a != i:\n",
        "            print(a)\n",
        "            continue\n",
        "        else:\n",
        "            break\n"
      ]
    },
    {
      "cell_type": "code",
      "execution_count": 22,
      "metadata": {},
      "outputs": [],
      "source": [
        "a = [chr(i) for i in range(ord(\"a\"), ord(\"z\") + 1)]"
      ]
    },
    {
      "cell_type": "code",
      "execution_count": 29,
      "metadata": {},
      "outputs": [
        {
          "name": "stdout",
          "output_type": "stream",
          "text": [
            "['s', 't', 'r', 'i', 'n', 'g']\n",
            "Error\n",
            "[]\n"
          ]
        }
      ],
      "source": [
        "string = input()\n",
        "# ord(string)\n",
        "\n",
        "b = [i for i in string]\n",
        "print(b)\n",
        "\n",
        "output = []\n",
        "\n",
        "\n",
        "if a in b:\n",
        "    output.append(b)\n",
        "    print(output)\n",
        "elif a == b:\n",
        "    output.append(a)\n",
        "    print(output)\n",
        "else:\n",
        "    print(\"Error\")\n",
        "\n",
        "print(output)"
      ]
    },
    {
      "cell_type": "code",
      "execution_count": 6,
      "metadata": {},
      "outputs": [
        {
          "name": "stdout",
          "output_type": "stream",
          "text": [
            "<class 'int'>\n",
            "<class 'int'>\n",
            "<class 'int'>\n",
            "<class 'int'>\n",
            "<class 'int'>\n",
            "<class 'int'>\n",
            "<class 'int'>\n"
          ]
        }
      ],
      "source": [
        "num = int(input())\n",
        "\n",
        "for i in range(1, num+1):\n",
        "    print(type(i))"
      ]
    },
    {
      "cell_type": "code",
      "execution_count": 43,
      "metadata": {},
      "outputs": [
        {
          "name": "stdout",
          "output_type": "stream",
          "text": [
            "a b c d e f g h \n",
            "a b c d e \n",
            "a b c d e f g h i j k l \n",
            "a b c d e f g h i j k l \n",
            "a b c d e f g h i j k l m n o \n",
            "a b c d e f g h i j k l m n o p q r s t u v w \n",
            "a b c d e f g h i j k l m n o \n",
            "a b c d e f g h i j k l m n o p q r \n",
            "a b c d e f g h i j k l \n",
            "a b c d \n"
          ]
        }
      ],
      "source": [
        "string = input()\n",
        "\n",
        "for char in string:\n",
        "\n",
        "    if char.isalpha():\n",
        "\n",
        "        target_char = char.lower()\n",
        "\n",
        "        # print(target_char)\n",
        "\n",
        "        for alph in range(ord(\"a\"), ord(\"z\") + 1):\n",
        "            # print(chr(alph))\n",
        "            print(chr(alph), end=' ')\n",
        "\n",
        "            if chr(alph) == target_char:\n",
        "                break\n",
        "        print()"
      ]
    },
    {
      "cell_type": "code",
      "execution_count": 27,
      "metadata": {},
      "outputs": [
        {
          "name": "stdout",
          "output_type": "stream",
          "text": [
            "Weird\n"
          ]
        }
      ],
      "source": [
        "n = int(input().strip())\n",
        "\n",
        "if n in range(6, 21):\n",
        "    print(\"Weird\")\n",
        "    \n",
        "elif n % 2 == 0:\n",
        "    print(\" Not Weird\")   \n",
        "else:\n",
        "    print(\"Weird\")"
      ]
    },
    {
      "cell_type": "code",
      "execution_count": 19,
      "metadata": {},
      "outputs": [
        {
          "data": {
            "text/plain": [
              "3"
            ]
          },
          "execution_count": 19,
          "metadata": {},
          "output_type": "execute_result"
        }
      ],
      "source": [
        "a = int(input().strip())\n",
        "a"
      ]
    },
    {
      "cell_type": "code",
      "execution_count": 36,
      "metadata": {},
      "outputs": [
        {
          "name": "stdout",
          "output_type": "stream",
          "text": [
            "Not Weird\n"
          ]
        }
      ],
      "source": [
        "#!/bin/python3\n",
        "\n",
        "import math\n",
        "import os\n",
        "import random\n",
        "import re\n",
        "import sys\n",
        "\n",
        "\n",
        "\n",
        "if __name__ == '__main__':\n",
        "    n = int(input().strip())\n",
        "\n",
        "    if n in range(6, 21):\n",
        "        print(\"Weird\")\n",
        "\n",
        "    elif n % 2 == 0:\n",
        "        print(\"Not Weird\")\n",
        "\n",
        "    else:\n",
        "        print(\"Weird\")\n",
        "    \n"
      ]
    },
    {
      "cell_type": "code",
      "execution_count": null,
      "metadata": {},
      "outputs": [],
      "source": []
    },
    {
      "cell_type": "code",
      "execution_count": 38,
      "metadata": {},
      "outputs": [
        {
          "name": "stdout",
          "output_type": "stream",
          "text": [
            "8\n",
            "-2\n",
            "15\n",
            "\n",
            "\n",
            "0\n",
            "0.6\n"
          ]
        }
      ],
      "source": [
        "if __name__ == '__main__':\n",
        "    a = int(input())\n",
        "    b = int(input())\n",
        "\n",
        "    add, sub, product = a+b, a-b, a*b\n",
        "\n",
        "    int_div, flot_div = a//b, a/b\n",
        "\n",
        "    print(f\"{add}\\n{sub}\\n{product}\\n\\n\\n{int_div}\\n{flot_div}\")\n"
      ]
    },
    {
      "cell_type": "code",
      "execution_count": 3,
      "metadata": {},
      "outputs": [
        {
          "name": "stdout",
          "output_type": "stream",
          "text": [
            "0\n",
            "1\n",
            "4\n",
            "9\n",
            "16\n"
          ]
        }
      ],
      "source": [
        "# write a python code which take int input from user and and squres of all the numbers that come before it\n",
        "\n",
        "if __name__ == '__main__':\n",
        "    n = int(input(\"Enter number here: \"))\n",
        "\n",
        "    for i in range(n):\n",
        "        print(i**2)\n",
        "        "
      ]
    },
    {
      "cell_type": "code",
      "execution_count": 17,
      "metadata": {},
      "outputs": [
        {
          "name": "stdout",
          "output_type": "stream",
          "text": [
            "True\n"
          ]
        }
      ],
      "source": [
        "# Write a python code to check if year is leap year or not\n",
        "def is_leap(year):\n",
        "    leap = False\n",
        "    \n",
        "    if year % 4 == 0:\n",
        "        if year % 100 == 0:\n",
        "            if year % 400 == 0:\n",
        "                return True\n",
        "            return False\n",
        "        return True\n",
        "    \n",
        "    \n",
        "    return leap\n",
        "\n",
        "year = int(input())\n",
        "print(is_leap(year))"
      ]
    },
    {
      "cell_type": "code",
      "execution_count": null,
      "metadata": {},
      "outputs": [],
      "source": []
    }
  ],
  "metadata": {
    "colab": {
      "include_colab_link": true,
      "provenance": []
    },
    "kernelspec": {
      "display_name": "Python 3",
      "name": "python3"
    },
    "language_info": {
      "codemirror_mode": {
        "name": "ipython",
        "version": 3
      },
      "file_extension": ".py",
      "mimetype": "text/x-python",
      "name": "python",
      "nbconvert_exporter": "python",
      "pygments_lexer": "ipython3",
      "version": "3.12.0b3"
    }
  },
  "nbformat": 4,
  "nbformat_minor": 0
}
