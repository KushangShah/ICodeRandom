{
  "nbformat": 4,
  "nbformat_minor": 0,
  "metadata": {
    "colab": {
      "provenance": [],
      "include_colab_link": true
    },
    "kernelspec": {
      "name": "python3",
      "display_name": "Python 3"
    },
    "language_info": {
      "name": "python"
    }
  },
  "cells": [
    {
      "cell_type": "markdown",
      "metadata": {
        "id": "view-in-github",
        "colab_type": "text"
      },
      "source": [
        "<a href=\"https://colab.research.google.com/github/KushangShah/ICodeRandom/blob/main/ICodeRandom.ipynb\" target=\"_parent\"><img src=\"https://colab.research.google.com/assets/colab-badge.svg\" alt=\"Open In Colab\"/></a>"
      ]
    },
    {
      "cell_type": "code",
      "execution_count": 2,
      "metadata": {
        "id": "PODZsWK2gq6P",
        "colab": {
          "base_uri": "https://localhost:8080/"
        },
        "outputId": "1ff5fc75-9cf9-4acc-f1c4-30eefc3eac04"
      },
      "outputs": [
        {
          "output_type": "stream",
          "name": "stdout",
          "text": [
            "Hello, World!\n"
          ]
        }
      ],
      "source": [
        "print(\"Hello, World!\")"
      ]
    },
    {
      "cell_type": "code",
      "source": [
        "from collections import Counter"
      ],
      "metadata": {
        "id": "9iQyfhe1n6gS"
      },
      "execution_count": 24,
      "outputs": []
    },
    {
      "cell_type": "code",
      "source": [
        "lst = [1,1,2,2,2,3,3,3,4,4,4,4,5,5,5,5,5,6,6,6,6,7,7,7,7,7,8,8,8,8,8,8,9,9,9,9,9,9]\n",
        "print(Counter(lst))\n",
        "print()\n",
        "print(Counter(lst).items())\n",
        "print()\n",
        "print(Counter(lst).keys())\n",
        "print()\n",
        "print(Counter(lst).values())"
      ],
      "metadata": {
        "id": "fI4EMSTbn8Rp",
        "outputId": "c999ce81-3007-4da3-afa7-2a24d63abf40",
        "colab": {
          "base_uri": "https://localhost:8080/"
        }
      },
      "execution_count": 29,
      "outputs": [
        {
          "output_type": "stream",
          "name": "stdout",
          "text": [
            "Counter({8: 6, 9: 6, 5: 5, 7: 5, 4: 4, 6: 4, 2: 3, 3: 3, 1: 2})\n",
            "\n",
            "dict_items([(1, 2), (2, 3), (3, 3), (4, 4), (5, 5), (6, 4), (7, 5), (8, 6), (9, 6)])\n",
            "\n",
            "dict_keys([1, 2, 3, 4, 5, 6, 7, 8, 9])\n",
            "\n",
            "dict_values([2, 3, 3, 4, 5, 4, 5, 6, 6])\n"
          ]
        }
      ]
    },
    {
      "cell_type": "code",
      "source": [
        "from collections import Counter\n",
        "\n",
        "# The first line contain number of shoes\n",
        "num_shoe = int(input(\"Number of shoes: \"))\n",
        "\n",
        "# second line contain list of shoe size\n",
        "lst_shoe = Counter(map(int, input().split()))\n",
        "\n",
        "# this line contains the number of customer\n",
        "num_customer = int(input(\"Number of customer: \"))\n",
        "\n",
        "total_earned = 0\n",
        "\n",
        "# now iterate over each customer and their desired size\n",
        "for _ in range(num_customer):\n",
        "  size, price = map(int, input().split())\n",
        "\n",
        "  if lst_shoe[size] > 0:\n",
        "    total_earned += price\n",
        "    lst_shoe[size] -= 1\n",
        "  # print(size, price)\n",
        "print(total_earned)"
      ],
      "metadata": {
        "id": "HIAOsZsDraMb",
        "outputId": "924c4bac-80c8-4b53-d4ab-b522f123a7fa",
        "colab": {
          "base_uri": "https://localhost:8080/"
        }
      },
      "execution_count": 32,
      "outputs": [
        {
          "output_type": "stream",
          "name": "stdout",
          "text": [
            "Number of shoes: 10\n",
            "2 3 4 5 6 8 7 6 5 18\n",
            "Number of customer: 6\n",
            "6 55\n",
            "6 45\n",
            "6 55\n",
            "4 40\n",
            "18 60\n",
            "10 50\n",
            "200\n"
          ]
        }
      ]
    }
  ]
}